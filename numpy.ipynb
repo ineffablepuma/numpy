{
 "cells": [
  {
   "cell_type": "markdown",
   "id": "af62715f-f1f8-4987-9292-23351123f77e",
   "metadata": {},
   "source": [
    "# numpy"
   ]
  },
  {
   "cell_type": "code",
   "execution_count": 11,
   "id": "4c948054-cfba-45d3-a02a-6eff6abd612f",
   "metadata": {},
   "outputs": [
    {
     "data": {
      "image/png": "[encoded data removed]",
      "text/plain": [
       "<Figure size 640x480 with 1 Axes>"
      ]
     },
     "metadata": {},
     "output_type": "display_data"
    }
   ],
   "source": [
    "import numpy as np\n",
    "import matplotlib.pyplot as plt\n",
    "\n",
    "xpts = np.array([10,5])\n",
    "ypts = np.array([500,1000])\n",
    "\n",
    "plt.plot(xpts,ypts)\n",
    "plt.show()"
   ]
  },
  {
   "cell_type": "code",
   "execution_count": 6,
   "id": "4c7c62da-daf7-4217-85c7-e3e026c24f9a",
   "metadata": {},
   "outputs": [
    {
     "name": "stdout",
     "output_type": "stream",
     "text": [
      "[ 5 10 15 20]\n",
      "[[1. 1. 1.]\n",
      " [1. 1. 1.]\n",
      " [1. 1. 1.]]\n",
      "[[0. 0. 0. 0.]\n",
      " [0. 0. 0. 0.]]\n"
     ]
    }
   ],
   "source": [
    "#creating 1d array\n",
    "import numpy as np\n",
    "arr = np.array([5,10,15,20])\n",
    "print(arr)"
   ]
  },
  {
   "cell_type": "code",
   "execution_count": 7,
   "id": "c944ce3a-02f9-4a7d-a2df-c2adbc403be4",
   "metadata": {},
   "outputs": [
    {
     "name": "stdout",
     "output_type": "stream",
     "text": [
      "[[1. 1. 1.]\n",
      " [1. 1. 1.]\n",
      " [1. 1. 1.]]\n",
      "[[0. 0. 0. 0.]\n",
      " [0. 0. 0. 0.]]\n"
     ]
    }
   ],
   "source": [
    "arr1 = np.ones((3,3))\n",
    "arr0 = np.zeros((2,4))\n",
    "print(arr1)\n",
    "print(arr0)"
   ]
  },
  {
   "cell_type": "code",
   "execution_count": 16,
   "id": "a8cf3b47-c7d2-46fc-83fe-b2358fd77d36",
   "metadata": {},
   "outputs": [
    {
     "name": "stdout",
     "output_type": "stream",
     "text": [
      "[[9 9]\n",
      " [9 9]]\n"
     ]
    }
   ],
   "source": [
    "print(np.full((2,2),9))"
   ]
  },
  {
   "cell_type": "code",
   "execution_count": 26,
   "id": "bb073f16-c8d1-4aff-b887-1830055069e8",
   "metadata": {},
   "outputs": [
    {
     "name": "stdout",
     "output_type": "stream",
     "text": [
      "(3, 4)\n",
      "2\n",
      "int64\n",
      "12\n"
     ]
    }
   ],
   "source": [
    "a = np.array([[1,2,3,4],[3,4,5,6],[5,6,7,8]])\n",
    "print(a.shape)\n",
    "print(a.ndim)\n",
    "print(a.dtype)\n",
    "print(a.size)"
   ]
  },
  {
   "cell_type": "code",
   "execution_count": 27,
   "id": "f72f133f-f702-40e7-8423-244c95d6527e",
   "metadata": {},
   "outputs": [
    {
     "name": "stdout",
     "output_type": "stream",
     "text": [
      "(1, 4)\n",
      "2\n",
      "int64\n",
      "4\n"
     ]
    }
   ],
   "source": [
    "a = np.array([[1,2,3,4]])\n",
    "print(a.shape)\n",
    "print(a.ndim)\n",
    "print(a.dtype)\n",
    "print(a.size)"
   ]
  },
  {
   "cell_type": "code",
   "execution_count": 43,
   "id": "4962293d-0c3a-466d-b8b9-102d83fc387d",
   "metadata": {},
   "outputs": [
    {
     "name": "stdout",
     "output_type": "stream",
     "text": [
      "[0 2 4 6 8]\n",
      "[0.   0.25 0.5  0.75 1.  ]\n"
     ]
    }
   ],
   "source": [
    "arr = np.arange(0,10,2) #0-9 with 2 gap\n",
    "print(arr)\n",
    "arr2 = np.linspace(0,1,5) #5 evenly spaced number\n",
    "print(arr2)"
   ]
  },
  {
   "cell_type": "code",
   "execution_count": 47,
   "id": "1aa0af9f-e865-4e43-b38d-f8e40ce94309",
   "metadata": {},
   "outputs": [
    {
     "name": "stdout",
     "output_type": "stream",
     "text": [
      "[2, 5, 8, 11, 14, 17]\n"
     ]
    }
   ],
   "source": [
    "r = range(2,20,3) #slower then numpy\n",
    "print(list(r))"
   ]
  },
  {
   "cell_type": "markdown",
   "id": "083bc313-7f8a-43f2-81e4-9920d2bb9a30",
   "metadata": {},
   "source": [
    "### part 2 indexing slicing and data types"
   ]
  },
  {
   "cell_type": "code",
   "execution_count": 50,
   "id": "dbec053c-0a04-462d-897f-655b24a15382",
   "metadata": {},
   "outputs": [
    {
     "name": "stdout",
     "output_type": "stream",
     "text": [
      "10\n",
      "30\n"
     ]
    }
   ],
   "source": [
    "a = np.array([10,20,30,40])\n",
    "print(a[0])\n",
    "print(a[-2])"
   ]
  },
  {
   "cell_type": "code",
   "execution_count": 51,
   "id": "34626a06-f679-42f0-9e3e-8a94d367f014",
   "metadata": {},
   "outputs": [
    {
     "name": "stdout",
     "output_type": "stream",
     "text": [
      "2\n",
      "6\n"
     ]
    }
   ],
   "source": [
    "a = np.array([[1,2,3],[4,5,6]])\n",
    "print(a[0,1])\n",
    "print(a[1,2])"
   ]
  },
  {
   "cell_type": "code",
   "execution_count": 55,
   "id": "73530882-7ad5-4d54-9fb0-1ab0ccf7f4b3",
   "metadata": {},
   "outputs": [
    {
     "name": "stdout",
     "output_type": "stream",
     "text": [
      "[20 30 40]\n",
      "[10 20 30]\n",
      "[10 30 50]\n"
     ]
    }
   ],
   "source": [
    "a = np.array([10,20,30,40,50])\n",
    "print(a[1:4]) #stops before 4 thats why prints 1:3\n",
    "print(a[:3])\n",
    "print(a[::2]) # start end step"
   ]
  },
  {
   "cell_type": "code",
   "execution_count": 59,
   "id": "ed1ee764-1ceb-4a61-aee6-3fe92b78e2b3",
   "metadata": {},
   "outputs": [
    {
     "name": "stdout",
     "output_type": "stream",
     "text": [
      "[[5 6]\n",
      " [8 9]]\n",
      "[[ 2  3  4]\n",
      " [ 5  6  7]\n",
      " [ 8  9 10]]\n",
      "[[7 8]]\n",
      "[[3 4]\n",
      " [6 7]]\n"
     ]
    }
   ],
   "source": [
    "a = np.array([[1,2,3,4],[4,5,6,7],[7,8,9,10]])\n",
    "print(a[1:3,1:3]) #row1:3 element 1:3\n",
    "print(a[:,1:4])\n",
    "print(a[2:,0:2])\n",
    "print(a[:2,2:])"
   ]
  },
  {
   "cell_type": "code",
   "execution_count": 77,
   "id": "6b636108-1255-4380-8177-c5bbdcbc4a6c",
   "metadata": {},
   "outputs": [
    {
     "name": "stdout",
     "output_type": "stream",
     "text": [
      "<U4\n"
     ]
    }
   ],
   "source": [
    "a = np.array([\"ab23\",\"b\"])\n",
    "print(a.dtype)"
   ]
  },
  {
   "cell_type": "markdown",
   "id": "a127ffb0-763c-4227-8dde-796aff14d281",
   "metadata": {},
   "source": [
    "### array math and broadcasting"
   ]
  },
  {
   "cell_type": "code",
   "execution_count": 78,
   "id": "378f0ecd-b60d-48e1-abb6-1fd997637565",
   "metadata": {},
   "outputs": [
    {
     "name": "stdout",
     "output_type": "stream",
     "text": [
      "[11 22 33]\n",
      "[ 9 18 27]\n",
      "[10 40 90]\n",
      "[10. 10. 10.]\n"
     ]
    }
   ],
   "source": [
    "import numpy as np\n",
    "\n",
    "a = np.array([1,2,3])\n",
    "b = np.array([10,20,30])\n",
    "\n",
    "print(a+b)\n",
    "print(b-a)\n",
    "print(a*b)\n",
    "print(b/a)"
   ]
  },
  {
   "cell_type": "code",
   "execution_count": 80,
   "id": "3fdd94ea-0b8e-4c40-a44d-973598f29a99",
   "metadata": {},
   "outputs": [
    {
     "name": "stdout",
     "output_type": "stream",
     "text": [
      "[6 7 8]\n",
      "[2 4 6]\n"
     ]
    }
   ],
   "source": [
    "print(a+5)\n",
    "print(a*2)"
   ]
  },
  {
   "cell_type": "code",
   "execution_count": 91,
   "id": "da0845f0-ee8f-4e3f-a95b-d5920712fa8f",
   "metadata": {},
   "outputs": [
    {
     "name": "stdout",
     "output_type": "stream",
     "text": [
      "[1.         1.41421356 1.73205081]\n",
      "[1 4 9]\n",
      "[ 1  8 27]\n",
      "[ 2.71828183  7.3890561  20.08553692]\n",
      "[0.         0.69314718 1.09861229]\n",
      "2.0\n",
      "3\n",
      "1\n"
     ]
    }
   ],
   "source": [
    "print(np.sqrt(a))\n",
    "print(np.square(a))\n",
    "print(np.pow(a,3))\n",
    "print(np.exp(a))\n",
    "print(np.log(a))\n",
    "print(np.mean(a))\n",
    "print(np.max(a))\n",
    "print(np.min(a))"
   ]
  },
  {
   "cell_type": "code",
   "execution_count": 93,
   "id": "4953b3e3-6b87-4145-8b85-7d13eb0adb65",
   "metadata": {},
   "outputs": [
    {
     "name": "stdout",
     "output_type": "stream",
     "text": [
      "[11 12 13]\n"
     ]
    }
   ],
   "source": [
    "#broadcasting\n",
    "\n",
    "a = np.array([1,2,3])\n",
    "b = 10\n",
    "\n",
    "print(a+b) # b is broadcasted into [10,10,10]"
   ]
  },
  {
   "cell_type": "code",
   "execution_count": 99,
   "id": "824a3deb-7350-4469-b038-3152b599558f",
   "metadata": {},
   "outputs": [
    {
     "ename": "ValueError",
     "evalue": "operands could not be broadcast together with shapes (3,) (2,) ",
     "output_type": "error",
     "traceback": [
      "\u001b[31m---------------------------------------------------------------------------\u001b[39m",
      "\u001b[31mValueError\u001b[39m                                Traceback (most recent call last)",
      "\u001b[36mCell\u001b[39m\u001b[36m \u001b[39m\u001b[32mIn[99]\u001b[39m\u001b[32m, line 4\u001b[39m\n\u001b[32m      1\u001b[39m a = np.array([\u001b[32m1\u001b[39m,\u001b[32m2\u001b[39m,\u001b[32m3\u001b[39m])\n\u001b[32m      2\u001b[39m b = np.array([\u001b[32m1\u001b[39m,\u001b[32m2\u001b[39m])\n\u001b[32m----> \u001b[39m\u001b[32m4\u001b[39m \u001b[38;5;28mprint\u001b[39m(\u001b[43ma\u001b[49m\u001b[43m+\u001b[49m\u001b[43mb\u001b[49m) \u001b[38;5;66;03m#cant bradcast\u001b[39;00m\n",
      "\u001b[31mValueError\u001b[39m: operands could not be broadcast together with shapes (3,) (2,) "
     ]
    }
   ],
   "source": [
    "a = np.array([1,2,3])\n",
    "b = np.array([1,2])\n",
    "\n",
    "print(a+b) #cant bradcast"
   ]
  },
  {
   "cell_type": "code",
   "execution_count": 101,
   "id": "bd6a6686-ab4c-42aa-97cd-453c4cd2cfd6",
   "metadata": {},
   "outputs": [
    {
     "name": "stdout",
     "output_type": "stream",
     "text": [
      "[False False False False False  True  True  True  True]\n",
      "[6 7 8 9]\n"
     ]
    }
   ],
   "source": [
    "a = np.array([1,2,3,4,5,6,7,8,9])\n",
    "\n",
    "print(a>5)\n",
    "print(a[a>5])"
   ]
  },
  {
   "cell_type": "markdown",
   "id": "d196a3dc-2a5d-49f5-987e-eb90c5df52fe",
   "metadata": {},
   "source": [
    "### reshaping"
   ]
  },
  {
   "cell_type": "code",
   "execution_count": 102,
   "id": "cb2fa501-9c04-4692-961e-794541938086",
   "metadata": {},
   "outputs": [
    {
     "ename": "ValueError",
     "evalue": "cannot reshape array of size 7 into shape (2,3)",
     "output_type": "error",
     "traceback": [
      "\u001b[31m---------------------------------------------------------------------------\u001b[39m",
      "\u001b[31mValueError\u001b[39m                                Traceback (most recent call last)",
      "\u001b[36mCell\u001b[39m\u001b[36m \u001b[39m\u001b[32mIn[102]\u001b[39m\u001b[32m, line 4\u001b[39m\n\u001b[32m      1\u001b[39m \u001b[38;5;28;01mimport\u001b[39;00m\u001b[38;5;250m \u001b[39m\u001b[34;01mnumpy\u001b[39;00m\u001b[38;5;250m \u001b[39m\u001b[38;5;28;01mas\u001b[39;00m\u001b[38;5;250m \u001b[39m\u001b[34;01mnp\u001b[39;00m\n\u001b[32m      3\u001b[39m a = np.array([\u001b[32m1\u001b[39m,\u001b[32m2\u001b[39m,\u001b[32m3\u001b[39m,\u001b[32m4\u001b[39m,\u001b[32m5\u001b[39m,\u001b[32m6\u001b[39m,\u001b[32m7\u001b[39m])\n\u001b[32m----> \u001b[39m\u001b[32m4\u001b[39m reshaped = \u001b[43ma\u001b[49m\u001b[43m.\u001b[49m\u001b[43mreshape\u001b[49m\u001b[43m(\u001b[49m\u001b[32;43m2\u001b[39;49m\u001b[43m,\u001b[49m\u001b[32;43m3\u001b[39;49m\u001b[43m)\u001b[49m\n\u001b[32m      6\u001b[39m \u001b[38;5;28mprint\u001b[39m(reshaped)\n",
      "\u001b[31mValueError\u001b[39m: cannot reshape array of size 7 into shape (2,3)"
     ]
    }
   ],
   "source": [
    "import numpy as np\n",
    "\n",
    "a = np.array([1,2,3,4,5,6,7])\n",
    "reshaped = a.reshape(2,3)\n",
    "\n",
    "print(reshaped)"
   ]
  },
  {
   "cell_type": "code",
   "execution_count": 145,
   "id": "cfea9987-fbd2-4729-be6c-21906ee55e20",
   "metadata": {},
   "outputs": [
    {
     "name": "stdout",
     "output_type": "stream",
     "text": [
      "[[1 2 3]\n",
      " [4 5 6]]\n",
      "[1 2 3 4 5 6]\n"
     ]
    }
   ],
   "source": [
    "import numpy as np\n",
    "\n",
    "a = np.array([1,2,3,4,5,6])\n",
    "reshaped = a.reshape(2,3)\n",
    "\n",
    "print(reshaped)\n",
    "print(a)"
   ]
  },
  {
   "cell_type": "code",
   "execution_count": 146,
   "id": "0f43dfeb-3261-423f-ab38-9bf6c7a783d8",
   "metadata": {},
   "outputs": [
    {
     "name": "stdout",
     "output_type": "stream",
     "text": [
      "[[1 2 3]\n",
      " [4 5 6]]\n",
      "[1 2 3 4 5 6]\n"
     ]
    }
   ],
   "source": [
    "import numpy as np\n",
    "\n",
    "a = np.array([1,2,3,4,5,6])\n",
    "reshaped = np.reshape(a,(2,3))\n",
    "\n",
    "print(reshaped)\n",
    "print(a)"
   ]
  },
  {
   "cell_type": "code",
   "execution_count": 104,
   "id": "51f2e4ee-753d-4b7d-93a7-2b12dee05138",
   "metadata": {},
   "outputs": [
    {
     "name": "stdout",
     "output_type": "stream",
     "text": [
      "[1 2 3 4]\n"
     ]
    }
   ],
   "source": [
    "#flatten\n",
    "\n",
    "a = np.array([[1,2],[3,4]])\n",
    "flat = a.flatten()\n",
    "print(flat)"
   ]
  },
  {
   "cell_type": "code",
   "execution_count": 114,
   "id": "fb8e1d2f-fa6f-4cfc-9056-58b06c3803af",
   "metadata": {},
   "outputs": [
    {
     "name": "stdout",
     "output_type": "stream",
     "text": [
      "[[1 2 3]\n",
      " [4 5 6]]\n"
     ]
    }
   ],
   "source": [
    "#resize : fill in 0 if needed, unlike reshape\n",
    "a = np.array([1,2,3,4,5,6,7])\n",
    "\n",
    "a.resize(2,3)\n",
    "print(a) #syntax changed raixa"
   ]
  },
  {
   "cell_type": "code",
   "execution_count": 149,
   "id": "07948004-8b88-4eb3-996b-cba75474dacb",
   "metadata": {},
   "outputs": [
    {
     "name": "stdout",
     "output_type": "stream",
     "text": [
      "[[1 2 3]\n",
      " [4 5 6]]\n",
      "[1 2 3 4 5 6 7]\n"
     ]
    }
   ],
   "source": [
    "a = np.array([1,2,3,4,5,6,7])\n",
    "\n",
    "b = np.resize(a,(2,3))\n",
    "print(b) \n",
    "print(a)"
   ]
  },
  {
   "cell_type": "code",
   "execution_count": 116,
   "id": "0147f7cd-ffd3-4b2f-a6f7-e6b104dc19b4",
   "metadata": {},
   "outputs": [
    {
     "name": "stdout",
     "output_type": "stream",
     "text": [
      "[1 2 3 4 5 6]\n"
     ]
    }
   ],
   "source": [
    "a = np.array([1,2,3,4,5,6])\n",
    "\n",
    "a.reshape(2,3)\n",
    "print(a)  #mildaina rehsape ma chai"
   ]
  },
  {
   "cell_type": "code",
   "execution_count": 119,
   "id": "4facb4a8-47cd-4574-9b8a-c231ff5d3941",
   "metadata": {
    "scrolled": true
   },
   "outputs": [
    {
     "name": "stdout",
     "output_type": "stream",
     "text": [
      "[[1 2 3]\n",
      " [4 5 6]]\n"
     ]
    }
   ],
   "source": [
    "# -1 trick \n",
    "a = np.array([1,2,3,4,5,6]) #doesnt work in 7\n",
    "print(a.reshape(2,-1)) # 6/2=3 type shit"
   ]
  },
  {
   "cell_type": "markdown",
   "id": "94c1701d-5b7e-426b-9ab5-b9376359a496",
   "metadata": {},
   "source": [
    "## stacking and splitting array"
   ]
  },
  {
   "cell_type": "code",
   "execution_count": 134,
   "id": "1b73f13e-7526-4879-b498-442cc6cfc54f",
   "metadata": {},
   "outputs": [
    {
     "name": "stdout",
     "output_type": "stream",
     "text": [
      "[[ 1  2  3]\n",
      " [ 7  8  9]\n",
      " [ 4  5  6]\n",
      " [10 11 12]]\n",
      "(4, 3)\n"
     ]
    }
   ],
   "source": [
    "# np.vstack() - vertical stack(row-wise)\n",
    "import numpy as np\n",
    "\n",
    "a = np.array([[1,2,3],[7,8,9]])\n",
    "b = np.array([[4,5,6],[10,11,12]])\n",
    "\n",
    "stacked = np.vstack([a,b])\n",
    "print(stacked)\n",
    "\n",
    "print(np.shape(stacked))"
   ]
  },
  {
   "cell_type": "code",
   "execution_count": 132,
   "id": "7db25bdd-c016-4b30-8d09-44cdce96ef34",
   "metadata": {},
   "outputs": [
    {
     "name": "stdout",
     "output_type": "stream",
     "text": [
      "[[ 1  2  3  4  5  6]\n",
      " [ 7  8  9 10 11 12]]\n",
      "(2, 6)\n",
      "(2, 3)\n"
     ]
    }
   ],
   "source": [
    "#horizonatal stack\n",
    "a = np.array([[1,2,3],[7,8,9]])\n",
    "b = np.array([[4,5,6],[10,11,12]])\n",
    "\n",
    "stacked = np.hstack([a,b])\n",
    "print(stacked)\n",
    "\n",
    "print(np.shape(stacked))"
   ]
  },
  {
   "cell_type": "code",
   "execution_count": 137,
   "id": "beded631-eaac-4616-9ba2-03801de35563",
   "metadata": {},
   "outputs": [
    {
     "ename": "ValueError",
     "evalue": "all the input arrays must have same number of dimensions, but the array at index 0 has 2 dimension(s) and the array at index 1 has 1 dimension(s)",
     "output_type": "error",
     "traceback": [
      "\u001b[31m---------------------------------------------------------------------------\u001b[39m",
      "\u001b[31mValueError\u001b[39m                                Traceback (most recent call last)",
      "\u001b[36mCell\u001b[39m\u001b[36m \u001b[39m\u001b[32mIn[137]\u001b[39m\u001b[32m, line 7\u001b[39m\n\u001b[32m      4\u001b[39m b = np.array([\u001b[32m7\u001b[39m,\u001b[32m8\u001b[39m,\u001b[32m9\u001b[39m])\n\u001b[32m      6\u001b[39m \u001b[38;5;66;03m#vertical stacking axis=0(rows)\u001b[39;00m\n\u001b[32m----> \u001b[39m\u001b[32m7\u001b[39m \u001b[38;5;28mprint\u001b[39m(\u001b[43mnp\u001b[49m\u001b[43m.\u001b[49m\u001b[43mconcatenate\u001b[49m\u001b[43m(\u001b[49m\u001b[43m(\u001b[49m\u001b[43ma\u001b[49m\u001b[43m,\u001b[49m\u001b[43mb\u001b[49m\u001b[43m)\u001b[49m\u001b[43m,\u001b[49m\u001b[43maxis\u001b[49m\u001b[43m=\u001b[49m\u001b[32;43m0\u001b[39;49m\u001b[43m)\u001b[49m)\n",
      "\u001b[31mValueError\u001b[39m: all the input arrays must have same number of dimensions, but the array at index 0 has 2 dimension(s) and the array at index 1 has 1 dimension(s)"
     ]
    }
   ],
   "source": [
    "# np.concatenate()\n",
    "\n",
    "a = np.array([[1,2,3],[4,5,6]])\n",
    "b = np.array([7,8,9])\n",
    "\n",
    "#vertical stacking axis=0(rows)\n",
    "print(np.concatenate((a,b),axis=0))"
   ]
  },
  {
   "cell_type": "code",
   "execution_count": 140,
   "id": "5fcbaf75-2d41-400a-9acb-be757900c42c",
   "metadata": {},
   "outputs": [
    {
     "name": "stdout",
     "output_type": "stream",
     "text": [
      "[[ 1  2  3]\n",
      " [ 4  5  6]\n",
      " [ 7  8  9]\n",
      " [10 11 12]]\n",
      "[[ 1  2  3  7  8  9]\n",
      " [ 4  5  6 10 11 12]]\n"
     ]
    }
   ],
   "source": [
    "# np.concatenate()\n",
    "\n",
    "a = np.array([[1,2,3],[4,5,6]])\n",
    "b = np.array([[7,8,9],[10,11,12]])\n",
    "\n",
    "#vertical stacking axis=0(rows)\n",
    "print(np.concatenate((a,b),axis=0))\n",
    "\n",
    "#horizontal axis=1 (column)\n",
    "print(np.concatenate((a,b),axis=1))"
   ]
  },
  {
   "cell_type": "code",
   "execution_count": 142,
   "id": "fcf4b7f2-bb7b-4a34-acc2-e37d11c73efc",
   "metadata": {},
   "outputs": [
    {
     "ename": "ValueError",
     "evalue": "array split does not result in an equal division",
     "output_type": "error",
     "traceback": [
      "\u001b[31m---------------------------------------------------------------------------\u001b[39m",
      "\u001b[31mValueError\u001b[39m                                Traceback (most recent call last)",
      "\u001b[36mCell\u001b[39m\u001b[36m \u001b[39m\u001b[32mIn[142]\u001b[39m\u001b[32m, line 4\u001b[39m\n\u001b[32m      1\u001b[39m \u001b[38;5;66;03m# np.split()\u001b[39;00m\n\u001b[32m      3\u001b[39m a = np.array([\u001b[32m10\u001b[39m,\u001b[32m20\u001b[39m,\u001b[32m30\u001b[39m,\u001b[32m40\u001b[39m,\u001b[32m50\u001b[39m,\u001b[32m60\u001b[39m,\u001b[32m70\u001b[39m])\n\u001b[32m----> \u001b[39m\u001b[32m4\u001b[39m split = \u001b[43mnp\u001b[49m\u001b[43m.\u001b[49m\u001b[43msplit\u001b[49m\u001b[43m(\u001b[49m\u001b[43ma\u001b[49m\u001b[43m,\u001b[49m\u001b[32;43m3\u001b[39;49m\u001b[43m)\u001b[49m\n\u001b[32m      5\u001b[39m \u001b[38;5;28mprint\u001b[39m(split)\n",
      "\u001b[36mFile \u001b[39m\u001b[32m~\\AppData\\Local\\Programs\\Python\\Python311\\Lib\\site-packages\\numpy\\lib\\_shape_base_impl.py:877\u001b[39m, in \u001b[36msplit\u001b[39m\u001b[34m(ary, indices_or_sections, axis)\u001b[39m\n\u001b[32m    875\u001b[39m     N = ary.shape[axis]\n\u001b[32m    876\u001b[39m     \u001b[38;5;28;01mif\u001b[39;00m N % sections:\n\u001b[32m--> \u001b[39m\u001b[32m877\u001b[39m         \u001b[38;5;28;01mraise\u001b[39;00m \u001b[38;5;167;01mValueError\u001b[39;00m(\n\u001b[32m    878\u001b[39m             \u001b[33m'\u001b[39m\u001b[33marray split does not result in an equal division\u001b[39m\u001b[33m'\u001b[39m) \u001b[38;5;28;01mfrom\u001b[39;00m\u001b[38;5;250m \u001b[39m\u001b[38;5;28;01mNone\u001b[39;00m\n\u001b[32m    879\u001b[39m \u001b[38;5;28;01mreturn\u001b[39;00m array_split(ary, indices_or_sections, axis)\n",
      "\u001b[31mValueError\u001b[39m: array split does not result in an equal division"
     ]
    }
   ],
   "source": [
    "# np.split()\n",
    "\n",
    "a = np.array([10,20,30,40,50,60,70])\n",
    "split = np.split(a,3)\n",
    "print(split)"
   ]
  },
  {
   "cell_type": "code",
   "execution_count": 143,
   "id": "1ff4b23c-0450-4003-b6cd-a7acee551fa3",
   "metadata": {},
   "outputs": [
    {
     "name": "stdout",
     "output_type": "stream",
     "text": [
      "[array([10, 20]), array([30, 40]), array([50, 60])]\n"
     ]
    }
   ],
   "source": [
    "# np.split()\n",
    "\n",
    "a = np.array([10,20,30,40,50,60])\n",
    "split = np.split(a,3)\n",
    "print(split)"
   ]
  },
  {
   "cell_type": "code",
   "execution_count": 2,
   "id": "5707f8cc-dc89-407c-8bb9-c8b510dec118",
   "metadata": {},
   "outputs": [
    {
     "name": "stdout",
     "output_type": "stream",
     "text": [
      "[array([1, 2, 3]), array([4, 5]), array([6, 7])]\n"
     ]
    }
   ],
   "source": [
    "import numpy as np\n",
    "a = np.array([1,2,3,4,5,6,7])\n",
    "split = np.array_split(a,3)\n",
    "print(split)"
   ]
  },
  {
   "cell_type": "code",
   "execution_count": 6,
   "id": "a570a5f3-bc48-40bc-9577-9eaaccb3abdd",
   "metadata": {},
   "outputs": [
    {
     "name": "stdout",
     "output_type": "stream",
     "text": [
      "float64\n"
     ]
    }
   ],
   "source": [
    "a = np.array([1,2,3],dtype=float)\n",
    "print(a.dtype)"
   ]
  },
  {
   "cell_type": "code",
   "execution_count": 7,
   "id": "80f4c55d-021f-4291-8666-c2b52fe43604",
   "metadata": {},
   "outputs": [
    {
     "name": "stdout",
     "output_type": "stream",
     "text": [
      "float64\n"
     ]
    }
   ],
   "source": [
    "# type conversion with astype()\n",
    "\n",
    "a = np.array([1,2,3])\n",
    "b = a.astype(float)\n",
    "print(b.dtype)"
   ]
  },
  {
   "cell_type": "code",
   "execution_count": 8,
   "id": "a38afcfc-4ded-4a4e-8014-f9cba6dbb82a",
   "metadata": {},
   "outputs": [
    {
     "name": "stdout",
     "output_type": "stream",
     "text": [
      "<U21\n"
     ]
    }
   ],
   "source": [
    "#implicit type promotion\n",
    "a = np.array([1,'utav',2])\n",
    "print(a.dtype)"
   ]
  },
  {
   "cell_type": "markdown",
   "id": "9cbda79c-e34e-48e4-96dd-0f5e881b40ab",
   "metadata": {},
   "source": [
    "## RANDOM NUMBERS AND SEEDINGS"
   ]
  },
  {
   "cell_type": "code",
   "execution_count": 10,
   "id": "cbb2d9b2-236d-495f-a2de-a277784af706",
   "metadata": {},
   "outputs": [
    {
     "name": "stdout",
     "output_type": "stream",
     "text": [
      "[0.20243905 0.78133974 0.29347197 0.23486009 0.15404121]\n"
     ]
    }
   ],
   "source": [
    "import numpy as np\n",
    "\n",
    "a = np.random.rand(5)\n",
    "print(a)"
   ]
  },
  {
   "cell_type": "code",
   "execution_count": 44,
   "id": "269eab44-74c0-4a98-91ef-5d730e607585",
   "metadata": {},
   "outputs": [
    {
     "name": "stdout",
     "output_type": "stream",
     "text": [
      "[6 9 8 8 6]\n"
     ]
    }
   ],
   "source": [
    "# For integre\n",
    "a = np.random.randint(1,10,5) #start end size #10 not included 1-9\n",
    "print(a)"
   ]
  },
  {
   "cell_type": "code",
   "execution_count": 48,
   "id": "b5b8278f-8e81-4c21-940c-7a121a00b06d",
   "metadata": {},
   "outputs": [
    {
     "name": "stdout",
     "output_type": "stream",
     "text": [
      "[[0.88924127 0.64776    0.17788992]\n",
      " [0.14181325 0.23695545 0.62918886]]\n"
     ]
    }
   ],
   "source": [
    "a = np.random.rand(2,3) # 2rows 3 columns\n",
    "print(a)"
   ]
  },
  {
   "cell_type": "code",
   "execution_count": 61,
   "id": "5bd2ad2b-207e-4882-8195-cc28d2c9cb0c",
   "metadata": {},
   "outputs": [
    {
     "name": "stdout",
     "output_type": "stream",
     "text": [
      "[[1 1 2]\n",
      " [3 1 2]]\n"
     ]
    }
   ],
   "source": [
    "a = np.random.randint(1,5,size=(2,3))\n",
    "print(a)"
   ]
  },
  {
   "cell_type": "code",
   "execution_count": 67,
   "id": "71e8af2d-cf5c-4ae0-825b-2fcb41659a44",
   "metadata": {},
   "outputs": [
    {
     "name": "stdout",
     "output_type": "stream",
     "text": [
      "None\n"
     ]
    }
   ],
   "source": [
    "# seeding to reproduce same random number each time\n",
    "a = np.random.seed(40)\n",
    "print(a)\n",
    "#chalena for some reson"
   ]
  },
  {
   "cell_type": "code",
   "execution_count": 72,
   "id": "ae0c3720-a37e-456e-84bd-5b50ce260d90",
   "metadata": {},
   "outputs": [
    {
     "name": "stdout",
     "output_type": "stream",
     "text": [
      "[0.40768703 0.05536604 0.78853488 0.28730518 0.45035059]\n"
     ]
    }
   ],
   "source": [
    "np.random.seed(42)\n",
    "print(np.random.rand(3))"
   ]
  },
  {
   "cell_type": "code",
   "execution_count": 78,
   "id": "8d1daaad-d497-4c39-9209-6d6979bf7458",
   "metadata": {},
   "outputs": [
    {
     "name": "stdout",
     "output_type": "stream",
     "text": [
      "[0.4359949  0.02592623 0.54966248 0.43532239 0.4203678 ]\n"
     ]
    }
   ],
   "source": [
    "np.random.seed(2)   # seed use garesi random use garda tesko basis ma aaunni jasto xa\n",
    "print(np.random.rand(5))"
   ]
  },
  {
   "cell_type": "code",
   "execution_count": 79,
   "id": "96af1ae6-93c9-4f15-95dc-e7e19a6de927",
   "metadata": {},
   "outputs": [
    {
     "name": "stdout",
     "output_type": "stream",
     "text": [
      "[0.37454012 0.95071431 0.73199394]\n"
     ]
    }
   ],
   "source": [
    "np.random.seed(42)\n",
    "print(np.random.rand(3))"
   ]
  },
  {
   "cell_type": "code",
   "execution_count": 80,
   "id": "82c14260-a6eb-40a0-9bd1-d02a01db14c4",
   "metadata": {},
   "outputs": [
    {
     "name": "stdout",
     "output_type": "stream",
     "text": [
      "[ 8  4  6  2 10]\n"
     ]
    }
   ],
   "source": [
    "#shuffeling and permutation\n",
    "\n",
    "arr = np.array([2,4,6,8,10])\n",
    "np.random.shuffle(arr)\n",
    "print(arr)"
   ]
  },
  {
   "cell_type": "code",
   "execution_count": 81,
   "id": "244a8c77-326a-43b6-9a58-50b6bdcaa3f0",
   "metadata": {},
   "outputs": [
    {
     "name": "stdout",
     "output_type": "stream",
     "text": [
      "[2 1 4 3]\n"
     ]
    }
   ],
   "source": [
    "a = np.array([1,2,3,4])\n",
    "b = np.random.permutation(a)\n",
    "print(b)"
   ]
  },
  {
   "cell_type": "code",
   "execution_count": 82,
   "id": "4379ee6e-37c7-4134-9c96-0fd1e02223e4",
   "metadata": {},
   "outputs": [
    {
     "name": "stdout",
     "output_type": "stream",
     "text": [
      "[4 2 1 3]\n"
     ]
    }
   ],
   "source": [
    "a = np.array([1,2,3,4])\n",
    "print(np.random.permutation(a))"
   ]
  },
  {
   "cell_type": "code",
   "execution_count": 83,
   "id": "508637b5-ac54-45eb-9902-57a5561e5c99",
   "metadata": {},
   "outputs": [
    {
     "name": "stdout",
     "output_type": "stream",
     "text": [
      "[1 2 3 4]\n"
     ]
    }
   ],
   "source": [
    "a = np.array([1,2,3,4])\n",
    "np.random.permutation(a)\n",
    "print(a)"
   ]
  },
  {
   "cell_type": "markdown",
   "id": "ae9703bf-d8cd-48eb-9c42-a7f889c3eb28",
   "metadata": {},
   "source": [
    "# STATISTICAL OPERATION\n"
   ]
  },
  {
   "cell_type": "code",
   "execution_count": 84,
   "id": "59f71bcd-8401-4b1e-8c3d-35ce40e5cdf6",
   "metadata": {},
   "outputs": [
    {
     "name": "stdout",
     "output_type": "stream",
     "text": [
      "21.0\n"
     ]
    }
   ],
   "source": [
    "import numpy as np\n",
    "\n",
    "a = np.array([10,30,13,50,2])\n",
    "b = np.mean(a)\n",
    "print(b)"
   ]
  },
  {
   "cell_type": "code",
   "execution_count": 86,
   "id": "8ebeef3b-863c-44c9-a431-096d4c5182f4",
   "metadata": {},
   "outputs": [
    {
     "name": "stdout",
     "output_type": "stream",
     "text": [
      "5.0 4.0\n"
     ]
    }
   ],
   "source": [
    "a = np.array([7,5,3,1,8])\n",
    "b = np.array([7,5,3,1])\n",
    "amedian = np.median(a) #sort paxi middle number\n",
    "bmedian = np.median(b) # middle nimber nahuda (a+b)/2\n",
    "print(amedian,bmedian)"
   ]
  },
  {
   "cell_type": "code",
   "execution_count": 87,
   "id": "144eae82-0969-4edb-9c08-a7b5208153ad",
   "metadata": {},
   "outputs": [
    {
     "name": "stdout",
     "output_type": "stream",
     "text": [
      "2.23606797749979\n"
     ]
    }
   ],
   "source": [
    "# standard deviation\n",
    "a = np.array([2,4,6,8])\n",
    "print(np.std(a))"
   ]
  },
  {
   "cell_type": "code",
   "execution_count": 88,
   "id": "16897bda-9438-4daa-930b-adfe0107fdc8",
   "metadata": {},
   "outputs": [
    {
     "name": "stdout",
     "output_type": "stream",
     "text": [
      "10\n",
      "30\n",
      "60\n"
     ]
    }
   ],
   "source": [
    "d = np.array([10,20,30])\n",
    "print(np.min(d))\n",
    "print(np.max(d))\n",
    "print(np.sum(d))"
   ]
  },
  {
   "cell_type": "code",
   "execution_count": 90,
   "id": "9665c878-9f22-4bf6-8001-77741d524480",
   "metadata": {},
   "outputs": [
    {
     "name": "stdout",
     "output_type": "stream",
     "text": [
      "[5 7 9]\n",
      "[ 6 15]\n",
      "21\n"
     ]
    }
   ],
   "source": [
    "# axis based operation\n",
    "\n",
    "e = np.array([[1,2,3],[4,5,6]])\n",
    "\n",
    "print(np.sum(e,axis=0)) #column-wise\n",
    "print(np.sum(e,axis=1)) #row wise\n",
    "print(np.sum(e)) #sum of all"
   ]
  },
  {
   "cell_type": "markdown",
   "id": "b0fedf63-dd2b-4bab-90cd-828cbd3a731e",
   "metadata": {},
   "source": [
    "## boolean masking and filtering"
   ]
  },
  {
   "cell_type": "code",
   "execution_count": 95,
   "id": "0388ff24-8af3-421a-bb78-a8ea2054be1f",
   "metadata": {},
   "outputs": [
    {
     "name": "stdout",
     "output_type": "stream",
     "text": [
      "[False False  True  True  True  True  True  True]\n"
     ]
    }
   ],
   "source": [
    "import numpy as np\n",
    "\n",
    "a = np.array([10,20,30,40,50,60,70,80])\n",
    "print(a>25)"
   ]
  },
  {
   "cell_type": "code",
   "execution_count": 96,
   "id": "c853dfa4-109a-47db-b57d-981530fb9f4d",
   "metadata": {},
   "outputs": [
    {
     "name": "stdout",
     "output_type": "stream",
     "text": [
      "[10 20 30 40 50 60 70 80]\n",
      "[10 20 30 40 50 60 70 80]\n"
     ]
    }
   ],
   "source": [
    "filtered = a[a>5]\n",
    "print(filtered)\n",
    "print(a[a>5])"
   ]
  },
  {
   "cell_type": "code",
   "execution_count": 97,
   "id": "aaa40a19-8287-4767-a411-0c6436333933",
   "metadata": {},
   "outputs": [
    {
     "name": "stdout",
     "output_type": "stream",
     "text": [
      "[30 40]\n"
     ]
    }
   ],
   "source": [
    "# combining combination\n",
    "\n",
    "print(a[(a > 20) & (a<50)])"
   ]
  },
  {
   "cell_type": "code",
   "execution_count": 100,
   "id": "a76e457e-0d06-44ae-8634-25ced1c31e2d",
   "metadata": {},
   "outputs": [
    {
     "name": "stdout",
     "output_type": "stream",
     "text": [
      "[6 7 8 9]\n"
     ]
    }
   ],
   "source": [
    "b = np.array([[1,2,3],[4,5,6],[7,8,9]])\n",
    "print(b[b>5])"
   ]
  },
  {
   "cell_type": "code",
   "execution_count": 102,
   "id": "d2c90662-29b3-4f13-bb8a-715f1331d7dd",
   "metadata": {},
   "outputs": [
    {
     "name": "stdout",
     "output_type": "stream",
     "text": [
      "[10 20 30 40  0  0  0  0]\n"
     ]
    }
   ],
   "source": [
    "# modifying filtered elements\n",
    "a[a>40] = 0\n",
    "print(a)"
   ]
  },
  {
   "cell_type": "markdown",
   "id": "560e4e4d-5474-46ef-a926-b31834e00d07",
   "metadata": {},
   "source": [
    "# BROADCASTING AND VECTORIZED OPERATION\n",
    "### Instead of using loops, NumPy lets you do math on entire arrays at once (vectorized ops), which is:\n",
    "\n",
    "✅ Faster\n",
    "\n",
    "✅ Cleaner\n",
    "\n",
    "✅ Closer to how matrix math works in ML"
   ]
  },
  {
   "cell_type": "code",
   "execution_count": 103,
   "id": "59fb0abe-9939-4338-a6eb-55a66ce81500",
   "metadata": {},
   "outputs": [
    {
     "name": "stdout",
     "output_type": "stream",
     "text": [
      "[2 4 6]\n"
     ]
    }
   ],
   "source": [
    "import numpy as np\n",
    "\n",
    "a = np.array([1,2,3])\n",
    "b = a*2\n",
    "print(b)"
   ]
  },
  {
   "cell_type": "code",
   "execution_count": 107,
   "id": "86ab541b-b1d7-4ce8-960f-9cba35fa5be5",
   "metadata": {},
   "outputs": [
    {
     "name": "stdout",
     "output_type": "stream",
     "text": [
      "[[11 12 13]\n",
      " [21 22 23]\n",
      " [31 32 33]\n",
      " [41 42 43]]\n"
     ]
    }
   ],
   "source": [
    "a = np.array([1,2,3])\n",
    "b = np.array([[10],[20],[30],[40]])\n",
    "print(a+b)\n"
   ]
  },
  {
   "cell_type": "code",
   "execution_count": 108,
   "id": "3e84fa7f-f676-4a41-b727-7d0a29a9fa6e",
   "metadata": {},
   "outputs": [
    {
     "name": "stdout",
     "output_type": "stream",
     "text": [
      "[[11 12]\n",
      " [13 14]]\n"
     ]
    }
   ],
   "source": [
    "x = np.array([[1, 2], [3, 4]])\n",
    "print(x + 10)"
   ]
  },
  {
   "cell_type": "code",
   "execution_count": 110,
   "id": "55f3982f-d4a6-42f0-8c47-ef2c4952c26d",
   "metadata": {},
   "outputs": [
    {
     "name": "stdout",
     "output_type": "stream",
     "text": [
      "[[ 6  8]\n",
      " [10 12]]\n",
      "[[ 5 12]\n",
      " [21 32]]\n"
     ]
    }
   ],
   "source": [
    "# matrix operation\n",
    "\n",
    "x = np.array([[1,2]\n",
    "              ,[3,4]])\n",
    "y = np.array([[5,6]\n",
    "              ,[7,8]]) # only elemnt wise multiplicaation\n",
    "\n",
    "print(x+y)\n",
    "print(x*y)"
   ]
  },
  {
   "cell_type": "code",
   "execution_count": 112,
   "id": "a477ac71-5314-488e-8d54-f8b2d62bb4a2",
   "metadata": {},
   "outputs": [
    {
     "name": "stdout",
     "output_type": "stream",
     "text": [
      "[0.         0.11111111 0.22222222 1.        ]\n"
     ]
    }
   ],
   "source": [
    "# normalization = (x-min)/(max-min)\n",
    "\n",
    "a = np.array([5,10,15,50])\n",
    "normalized = (a - a.min()) / (a.max() - a.min())\n",
    "print(normalized)"
   ]
  },
  {
   "cell_type": "markdown",
   "id": "c13b9e34-58b5-4774-856b-ba03a4d61c72",
   "metadata": {},
   "source": [
    "🧪 Exercise: Normalize a Dataset and Apply Feature Scaling\n",
    "You have a NumPy array representing the scores of students in 3 subjects:\n",
    "\n",
    "python\n",
    "Copy code\n",
    "import numpy as np\n",
    "\n",
    "scores = np.array([\n",
    "    [72, 85, 90],\n",
    "    [88, 79, 92],\n",
    "    [95, 80, 85],\n",
    "    [70, 78, 88]\n",
    "])\n",
    "🎯 Tasks:\n",
    "Calculate the mean score for each subject (column-wise)\n",
    "\n",
    "Normalize the scores using min-max scaling (per subject)\n",
    "Use formula:\n",
    "\n",
    "normalized=(𝑥−min)/(max−min)\n",
    "\n",
    "Scale the scores to a new range of 0 to 100 (using broadcasting)\n",
    "Hint: Multiply the normalized result by 100."
   ]
  },
  {
   "cell_type": "code",
   "execution_count": 114,
   "id": "14d5a385-85f9-49bb-b8ba-b6db30b2b545",
   "metadata": {},
   "outputs": [
    {
     "name": "stdout",
     "output_type": "stream",
     "text": [
      "[[0.08 0.6  0.8 ]\n",
      " [0.72 0.36 0.88]\n",
      " [1.   0.4  0.6 ]\n",
      " [0.   0.32 0.72]]\n"
     ]
    }
   ],
   "source": [
    "a = np.array([[72, 85, 90], \n",
    "             [88, 79, 92],\n",
    "             [95, 80, 85], \n",
    "             [70, 78, 88] ])\n",
    "normalized = (a - a.min())/(a.max() - a.min())\n",
    "print(normalized)"
   ]
  },
  {
   "cell_type": "code",
   "execution_count": 117,
   "id": "872d5e41-7b6a-4294-9e97-08d02cefcb2e",
   "metadata": {},
   "outputs": [
    {
     "name": "stdout",
     "output_type": "stream",
     "text": [
      "[[0.08 0.6  0.8 ]\n",
      " [0.72 0.36 0.88]\n",
      " [1.   0.4  0.6 ]\n",
      " [0.   0.32 0.72]]\n",
      "Sclaed score: [[  8.  60.  80.]\n",
      " [ 72.  36.  88.]\n",
      " [100.  40.  60.]\n",
      " [  0.  32.  72.]]\n"
     ]
    }
   ],
   "source": [
    "a = np.array([[72, 85, 90], \n",
    "             [88, 79, 92],\n",
    "             [95, 80, 85], \n",
    "             [70, 78, 88] ])\n",
    "normalized = (a - a.min())/(a.max() - a.min())\n",
    "print(normalized)\n",
    "a = normalized * 100 #scaling\n",
    "print(\"Sclaed score:\",a)\n",
    "# what this did is changed the marks obtained in slace of 0-100 "
   ]
  },
  {
   "cell_type": "code",
   "execution_count": 119,
   "id": "b2426af0-44d5-4242-827f-fd106ce2f1c7",
   "metadata": {},
   "outputs": [
    {
     "name": "stdout",
     "output_type": "stream",
     "text": [
      "83.5\n"
     ]
    }
   ],
   "source": [
    "a = np.array([[72, 85, 90], \n",
    "             [88, 79, 92],\n",
    "             [95, 80, 85], \n",
    "             [70, 78, 88] ])\n",
    "mean = np.mean(a)\n",
    "print(mean)"
   ]
  },
  {
   "cell_type": "code",
   "execution_count": 122,
   "id": "f0c7eb25-3c11-4399-8cb7-3525d7fb05f9",
   "metadata": {},
   "outputs": [
    {
     "name": "stdout",
     "output_type": "stream",
     "text": [
      "Mean scores: [81.25 80.5  88.75]\n"
     ]
    }
   ],
   "source": [
    "a = np.array([[72, 85, 90], \n",
    "             [88, 79, 92],\n",
    "             [95, 80, 85], \n",
    "             [70, 78, 88] ])\n",
    "mean = np.mean(a,axis = 0) # mean score for each subject\n",
    "print(\"Mean scores:\",mean)"
   ]
  },
  {
   "cell_type": "markdown",
   "id": "08cb971a-884f-4432-981d-ebd2b570fa1f",
   "metadata": {},
   "source": [
    "## numpy linear algebra basics"
   ]
  },
  {
   "cell_type": "code",
   "execution_count": 2,
   "id": "df2b0b91-1ba0-4f29-ac10-78c032375fc7",
   "metadata": {},
   "outputs": [
    {
     "name": "stdout",
     "output_type": "stream",
     "text": [
      "[[19 22]\n",
      " [43 50]]\n"
     ]
    }
   ],
   "source": [
    "# dot product\n",
    "\n",
    "import numpy as np\n",
    "\n",
    "a = np.array([[1,2],[3,4]])\n",
    "b = np.array([[5,6],[7,8]])\n",
    "\n",
    "result = np.dot(a,b) # actual matrix multiplication\n",
    "print(result)"
   ]
  },
  {
   "cell_type": "code",
   "execution_count": 3,
   "id": "cb85c9f3-4652-4aa1-b86e-2211efb7d9e6",
   "metadata": {},
   "outputs": [
    {
     "name": "stdout",
     "output_type": "stream",
     "text": [
      "[[1 3]\n",
      " [2 4]]\n"
     ]
    }
   ],
   "source": [
    "# transpose of matrix\n",
    "a = np.array([[1,2],[3,4]])\n",
    "print(a.T)"
   ]
  },
  {
   "cell_type": "code",
   "execution_count": 5,
   "id": "a89b939f-5e34-422a-8114-6a3e802caadf",
   "metadata": {},
   "outputs": [
    {
     "name": "stdout",
     "output_type": "stream",
     "text": [
      "[[1 3]\n",
      " [2 4]\n",
      " [3 5]\n",
      " [4 6]\n",
      " [5 7]]\n"
     ]
    }
   ],
   "source": [
    "a = np.array([[1,2,3,4,5],[3,4,5,6,7,]])\n",
    "print(a.T)"
   ]
  },
  {
   "cell_type": "code",
   "execution_count": 6,
   "id": "15ca0f4c-c944-41e1-ba4e-d71c83c70888",
   "metadata": {},
   "outputs": [
    {
     "name": "stdout",
     "output_type": "stream",
     "text": [
      "[[1. 0. 0.]\n",
      " [0. 1. 0.]\n",
      " [0. 0. 1.]]\n"
     ]
    }
   ],
   "source": [
    "# identity matrix\n",
    "\n",
    "i = np.eye(3)\n",
    "print(i)"
   ]
  },
  {
   "cell_type": "code",
   "execution_count": 8,
   "id": "9cfbd267-4e62-4594-a163-5f45b0c892d6",
   "metadata": {},
   "outputs": [
    {
     "name": "stdout",
     "output_type": "stream",
     "text": [
      "[[-2.   1. ]\n",
      " [ 1.5 -0.5]]\n"
     ]
    }
   ],
   "source": [
    "a = np.array([[1,2],[3,4]])\n",
    "inv = np.linalg.inv(a)\n",
    "print(inv)"
   ]
  },
  {
   "cell_type": "code",
   "execution_count": 9,
   "id": "3d97ba33-a3ad-451f-bfbd-60ad62ce4020",
   "metadata": {},
   "outputs": [
    {
     "name": "stdout",
     "output_type": "stream",
     "text": [
      "-2.0000000000000004\n"
     ]
    }
   ],
   "source": [
    "a = np.array([[1,2],[3,4]])\n",
    "det = np.linalg.det(a)\n",
    "print(det)"
   ]
  },
  {
   "cell_type": "markdown",
   "id": "ae70a315-5f1f-4a4e-88f7-2c9d8e594442",
   "metadata": {},
   "source": [
    " Exercise: Inverse and Identity Check\n",
    "You're given a matrix A.\n",
    "Your task is to:\n",
    "\n",
    "Compute the inverse of the matrix using np.linalg.inv().\n",
    "\n",
    "Multiply the original matrix with its inverse using @.\n",
    "\n",
    "Check if the result is (approximately) an identity matrix"
   ]
  },
  {
   "cell_type": "code",
   "execution_count": 12,
   "id": "31f1d4ef-7dca-4b09-8545-51b3c7829974",
   "metadata": {},
   "outputs": [
    {
     "name": "stdout",
     "output_type": "stream",
     "text": [
      "[[ 1.00000000e+00 -1.11022302e-16]\n",
      " [-1.11022302e-16  1.00000000e+00]]\n"
     ]
    }
   ],
   "source": [
    "import numpy as np\n",
    "\n",
    "a = np.array([[4,7],[2,6]])\n",
    "b = np.linalg.inv(a)\n",
    "c = np.dot(a,b)\n",
    "print(c)"
   ]
  },
  {
   "cell_type": "code",
   "execution_count": 16,
   "id": "5064f7ee-3d18-4da4-a824-d86c14ebf2b5",
   "metadata": {},
   "outputs": [
    {
     "name": "stdout",
     "output_type": "stream",
     "text": [
      "[[ 1. -0.]\n",
      " [-0.  1.]]\n"
     ]
    }
   ],
   "source": [
    "print(np.round(c,2))"
   ]
  },
  {
   "cell_type": "code",
   "execution_count": 23,
   "id": "18ec3697-1474-424a-b18a-31b4544a347b",
   "metadata": {},
   "outputs": [
    {
     "name": "stdout",
     "output_type": "stream",
     "text": [
      "['Fail' 'Pass' 'Pass' 'Fail']\n"
     ]
    }
   ],
   "source": [
    "grades = np.array([45,82,71,39])\n",
    "result = np.where(grades >= 50,\"Pass\",\"Fail\")\n",
    "print(result)"
   ]
  },
  {
   "cell_type": "code",
   "execution_count": 24,
   "id": "45594a40-1e44-458e-8afd-d007c4588650",
   "metadata": {},
   "outputs": [
    {
     "name": "stdout",
     "output_type": "stream",
     "text": [
      "[False  True  True False]\n"
     ]
    }
   ],
   "source": [
    "grades = np.array([45,82,71,39])\n",
    "result = (grades >= 50)\n",
    "print(result)"
   ]
  },
  {
   "cell_type": "code",
   "execution_count": 4,
   "id": "14fc92d9-ee8a-4119-bb48-df264b28efcd",
   "metadata": {},
   "outputs": [
    {
     "name": "stdout",
     "output_type": "stream",
     "text": [
      "[10 40]\n"
     ]
    }
   ],
   "source": [
    "import numpy as np\n",
    "x = np.array([10, 20, 30, 40, 50])\n",
    "print(x[(x > 20) & (x < 50) & (x!=30) | (x == 10) ])"
   ]
  },
  {
   "cell_type": "markdown",
   "id": "bd371029-6a78-4b82-8562-791e68fd11fc",
   "metadata": {},
   "source": [
    "You’re given a list of student scores. Your task is to:\n",
    "\n",
    "Calculate the mean score\n",
    "\n",
    "Find all scores above the mean\n",
    "\n",
    "Count how many students failed (scored less than 40)\n",
    "\n",
    "Print a Pass/Fail list using np.where()"
   ]
  },
  {
   "cell_type": "code",
   "execution_count": 9,
   "id": "b93877f1-8e6f-4b04-9b96-ec689428b24e",
   "metadata": {},
   "outputs": [
    {
     "name": "stdout",
     "output_type": "stream",
     "text": [
      "mean :  60.6\n"
     ]
    }
   ],
   "source": [
    "scores = np.array([78, 56, 89, 34, 45, 92, 37, 65, 88, 22])\n",
    "mean = np.mean(scores)\n",
    "print(\"mean : \",mean)\n"
   ]
  },
  {
   "cell_type": "code",
   "execution_count": 10,
   "id": "cd279817-34b4-40aa-84a7-2da9e4479497",
   "metadata": {},
   "outputs": [
    {
     "name": "stdout",
     "output_type": "stream",
     "text": [
      "[78 89 92 65 88]\n"
     ]
    }
   ],
   "source": [
    "above = scores[scores>mean]\n",
    "print(above)"
   ]
  },
  {
   "cell_type": "code",
   "execution_count": 11,
   "id": "9ab0e9e0-f776-4bd2-bc7b-86c21c025888",
   "metadata": {},
   "outputs": [
    {
     "name": "stdout",
     "output_type": "stream",
     "text": [
      "Numbers of failed : 3\n"
     ]
    }
   ],
   "source": [
    "fail = scores[scores<40]\n",
    "print(\"Numbers of failed :\",len(fail))\n"
   ]
  },
  {
   "cell_type": "code",
   "execution_count": 12,
   "id": "d6757873-a8ed-453f-a357-be7e2f673054",
   "metadata": {},
   "outputs": [
    {
     "name": "stdout",
     "output_type": "stream",
     "text": [
      "Results : ['Pass' 'Pass' 'Pass' 'Fail' 'Pass' 'Pass' 'Fail' 'Pass' 'Pass' 'Fail']\n"
     ]
    }
   ],
   "source": [
    "result = np.where(scores >= 40 , \"Pass\",\"Fail\")\n",
    "print(\"Results :\",result)"
   ]
  },
  {
   "cell_type": "code",
   "execution_count": 14,
   "id": "78422d2d-0243-46dd-94b3-976a27bd0026",
   "metadata": {},
   "outputs": [
    {
     "name": "stdout",
     "output_type": "stream",
     "text": [
      "[[2 3 4]\n",
      " [5 6 7]]\n"
     ]
    }
   ],
   "source": [
    "# 2d broadcasting\n",
    "a = np.array([[1,2,3],[4,5,6]])\n",
    "b = np.array([1]) #([[1,1,1],[1,1,1]])\n",
    "print(a+b)"
   ]
  },
  {
   "cell_type": "code",
   "execution_count": 16,
   "id": "09c696f9-d195-447f-8222-e1c9b0c2e2db",
   "metadata": {},
   "outputs": [
    {
     "name": "stdout",
     "output_type": "stream",
     "text": [
      "[[11 13 15]\n",
      " [14 16 18]]\n"
     ]
    }
   ],
   "source": [
    "a = np.array([[1,2,3],[4,5,6]])\n",
    "b = np.array([10,11,12])\n",
    "print(a+b)"
   ]
  },
  {
   "cell_type": "code",
   "execution_count": null,
   "id": "205d835d-682f-40d3-88ee-b87a50c4df23",
   "metadata": {},
   "outputs": [],
   "source": [
    "a = np.array([[1,2,3,4],[4,5,6,7]])\n",
    "b = np.array([10,11]) #wrong because it should be equal or 1 in dimension\n",
    "print(a+b)"
   ]
  },
  {
   "cell_type": "code",
   "execution_count": null,
   "id": "5e8f0926-4dc1-4fe9-b793-add144a16d7d",
   "metadata": {},
   "outputs": [],
   "source": []
  }
 ],
 "metadata": {
  "kernelspec": {
   "display_name": "Python 3 (ipykernel)",
   "language": "python",
   "name": "python3"
  },
  "language_info": {
   "codemirror_mode": {
    "name": "ipython",
    "version": 3
   },
   "file_extension": ".py",
   "mimetype": "text/x-python",
   "name": "python",
   "nbconvert_exporter": "python",
   "pygments_lexer": "ipython3",
   "version": "3.11.0"
  }
 },
 "nbformat": 4,
 "nbformat_minor": 5
}
